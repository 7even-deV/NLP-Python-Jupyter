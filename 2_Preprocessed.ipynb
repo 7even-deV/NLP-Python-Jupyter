{
  "cells": [
    {
      "cell_type": "markdown",
      "metadata": {
        "id": "b542eHvEd7Lu"
      },
      "source": [
        "# 2. Preprocesado de texto"
      ]
    },
    {
      "cell_type": "code",
      "execution_count": 103,
      "metadata": {
        "colab": {
          "base_uri": "https://localhost:8080/"
        },
        "id": "8Ds87sIad7Lv",
        "outputId": "60e7592c-b1f6-4aa9-f848-2ab94c4302d5"
      },
      "outputs": [
        {
          "name": "stdout",
          "output_type": "stream",
          "text": [
            "Requirement already satisfied: stop_words in c:\\users\\seven\\appdata\\local\\programs\\python\\python310\\lib\\site-packages (2018.7.23)\n"
          ]
        },
        {
          "name": "stderr",
          "output_type": "stream",
          "text": [
            "WARNING: You are using pip version 21.2.4; however, version 22.1.2 is available.\n",
            "You should consider upgrading via the 'C:\\Users\\Seven\\AppData\\Local\\Programs\\Python\\Python310\\python.exe -m pip install --upgrade pip' command.\n"
          ]
        }
      ],
      "source": [
        "# Importar paquetes necesarios\n",
        "import numpy as np\n",
        "import pandas as pd\n",
        "import os\n",
        "\n",
        "import string\n",
        "import unicodedata\n",
        "!pip install stop_words\n",
        "from stop_words import get_stop_words\n",
        "\n",
        "import sys\n",
        "sys.path.append('../..')\n",
        "\n",
        "import matplotlib.pyplot as plt\n",
        "from matplotlib.colors import ListedColormap\n",
        "%matplotlib inline\n",
        "\n",
        "import warnings\n",
        "warnings.filterwarnings('ignore')\n",
        "\n",
        "cm = plt.cm.RdBu\n",
        "cm_bright = ListedColormap(['#FF0000', '#0000FF'])\n",
        "\n",
        "seed = 17\n",
        "\n",
        "pd.set_option('display.max_rows', None) # Muestra todas las filas\n",
        "pd.set_option('display.max_columns', None) # Muestra todas las columnas"
      ]
    },
    {
      "cell_type": "code",
      "execution_count": 104,
      "metadata": {
        "colab": {
          "base_uri": "https://localhost:8080/"
        },
        "id": "3wpnSokJd7Lx",
        "outputId": "9736a189-258f-4c9a-f554-b579f6bdca82"
      },
      "outputs": [],
      "source": [
        "# Datos descargados de http://jmcauley.ucsd.edu/data/amazon/\n",
        "# ! unzip datasets.zip\n",
        "\n",
        "import zipfile\n",
        "with zipfile.ZipFile(\"datasets.zip\", \"r\") as z:\n",
        "    z.extractall(\".\")"
      ]
    },
    {
      "cell_type": "code",
      "execution_count": 105,
      "metadata": {
        "id": "tli0Mazud7Lx"
      },
      "outputs": [],
      "source": [
        "datasets_path = 'datasets'\n",
        "instruments_json = 'reviews_Musical_Instruments_5.json.gz'\n",
        "df_instruments = pd.read_json(os.path.join(datasets_path, instruments_json), lines = True, compression = 'gzip')\n",
        "\n",
        "# Subconjunto de 'reviewText'\n",
        "reviews = df_instruments[['reviewText']]"
      ]
    },
    {
      "cell_type": "code",
      "execution_count": 106,
      "metadata": {
        "id": "z9gNxDbSSNJQ"
      },
      "outputs": [],
      "source": [
        "def get_lemmas_dict(data_path, lemmas_dict_file):\n",
        "    lemmas_dict = {}\n",
        "    with open(os.path.join(data_path, lemmas_dict_file), 'r', encoding='utf-8') as f:\n",
        "        for line in f:\n",
        "            (key, val) = line.split()\n",
        "            lemmas_dict[str(val)] = key\n",
        "    return lemmas_dict"
      ]
    },
    {
      "cell_type": "code",
      "execution_count": 107,
      "metadata": {
        "id": "UYR1c5pISM-V"
      },
      "outputs": [],
      "source": [
        "lemmas_path = 'datasets'\n",
        "english_lemmas = 'lemmatization.txt'\n",
        "\n",
        "english_lemmas_dict = get_lemmas_dict(lemmas_path, english_lemmas)\n",
        "sw_list = get_stop_words('english')"
      ]
    },
    {
      "cell_type": "code",
      "execution_count": 108,
      "metadata": {
        "id": "rUisnsLjd7L2"
      },
      "outputs": [],
      "source": [
        "# Preprocesado\n",
        "def text_normalizer(text, lemmas_dict=None, sw_list=None):\n",
        "\n",
        "    processed_text = []\n",
        "\n",
        "    if sw_list is None:\n",
        "        sw_list = []\n",
        "\n",
        "    # Convertir a minúsculas\n",
        "    text = text.lower()\n",
        "\n",
        "    # Eliminar dígitos\n",
        "    text = ''.join([c for c in text if not c.isdigit()])\n",
        "\n",
        "    # Eliminar carácteres extraños\n",
        "    text = unicodedata.normalize('NFKD', text).encode('ascii', 'ignore').decode('utf-8', 'ignore')\n",
        "\n",
        "    # Eliminar puntuación\n",
        "    table = str.maketrans('', '', string.punctuation)\n",
        "\n",
        "    # Dividir en sentencias\n",
        "    sentences = text.split('.')\n",
        "\n",
        "    for sentence in sentences:\n",
        "        words = sentence.split(' ')\n",
        "        for word in words:\n",
        "            if word not in sw_list:\n",
        "                if word not in string.punctuation:\n",
        "                    word = word.translate(table)\n",
        "                    if lemmas_dict is not None:\n",
        "                        word = lemmas_dict.get(word, word)\n",
        "                processed_text.append(word)\n",
        "\n",
        "    return ' '.join(processed_text)"
      ]
    },
    {
      "cell_type": "code",
      "execution_count": 109,
      "metadata": {
        "colab": {
          "base_uri": "https://localhost:8080/",
          "height": 274
        },
        "id": "X7xnYldJd7L3",
        "outputId": "efd69afe-1bcc-46b8-824c-a7c838bd76f3"
      },
      "outputs": [
        {
          "data": {
            "text/html": [
              "<div>\n",
              "<style scoped>\n",
              "    .dataframe tbody tr th:only-of-type {\n",
              "        vertical-align: middle;\n",
              "    }\n",
              "\n",
              "    .dataframe tbody tr th {\n",
              "        vertical-align: top;\n",
              "    }\n",
              "\n",
              "    .dataframe thead th {\n",
              "        text-align: right;\n",
              "    }\n",
              "</style>\n",
              "<table border=\"1\" class=\"dataframe\">\n",
              "  <thead>\n",
              "    <tr style=\"text-align: right;\">\n",
              "      <th></th>\n",
              "      <th>reviewText</th>\n",
              "      <th>processed_text</th>\n",
              "    </tr>\n",
              "  </thead>\n",
              "  <tbody>\n",
              "    <tr>\n",
              "      <th>0</th>\n",
              "      <td>Not much to write about here, but it does exac...</td>\n",
              "      <td>much write here exactly suppose  filter pop so...</td>\n",
              "    </tr>\n",
              "    <tr>\n",
              "      <th>1</th>\n",
              "      <td>The product does exactly as it should and is q...</td>\n",
              "      <td>product exactly quite affordable realize doubl...</td>\n",
              "    </tr>\n",
              "    <tr>\n",
              "      <th>2</th>\n",
              "      <td>The primary job of this device is to block the...</td>\n",
              "      <td>primary job device block breath otherwise prod...</td>\n",
              "    </tr>\n",
              "    <tr>\n",
              "      <th>3</th>\n",
              "      <td>Nice windscreen protects my MXL mic and preven...</td>\n",
              "      <td>nice windscreen protect mxl mic prevent pop  t...</td>\n",
              "    </tr>\n",
              "    <tr>\n",
              "      <th>4</th>\n",
              "      <td>This pop filter is great. It looks and perform...</td>\n",
              "      <td>pop filter great  look perform like studio fil...</td>\n",
              "    </tr>\n",
              "  </tbody>\n",
              "</table>\n",
              "</div>"
            ],
            "text/plain": [
              "                                          reviewText  \\\n",
              "0  Not much to write about here, but it does exac...   \n",
              "1  The product does exactly as it should and is q...   \n",
              "2  The primary job of this device is to block the...   \n",
              "3  Nice windscreen protects my MXL mic and preven...   \n",
              "4  This pop filter is great. It looks and perform...   \n",
              "\n",
              "                                      processed_text  \n",
              "0  much write here exactly suppose  filter pop so...  \n",
              "1  product exactly quite affordable realize doubl...  \n",
              "2  primary job device block breath otherwise prod...  \n",
              "3  nice windscreen protect mxl mic prevent pop  t...  \n",
              "4  pop filter great  look perform like studio fil...  "
            ]
          },
          "execution_count": 109,
          "metadata": {},
          "output_type": "execute_result"
        }
      ],
      "source": [
        "# Nueva columna con texto procesado\n",
        "reviews['processed_text'] = reviews['reviewText'].apply(lambda text: text_normalizer(text=text, lemmas_dict=english_lemmas_dict, sw_list=sw_list))\n",
        "\n",
        "reviews.head()"
      ]
    }
  ],
  "metadata": {
    "colab": {
      "collapsed_sections": [],
      "name": "2. Etapa de preprocesado de texto-version2.ipynb",
      "provenance": []
    },
    "kernelspec": {
      "display_name": "Python 3.10.1 64-bit",
      "language": "python",
      "name": "python3"
    },
    "language_info": {
      "codemirror_mode": {
        "name": "ipython",
        "version": 3
      },
      "file_extension": ".py",
      "mimetype": "text/x-python",
      "name": "python",
      "nbconvert_exporter": "python",
      "pygments_lexer": "ipython3",
      "version": "3.10.1"
    },
    "vscode": {
      "interpreter": {
        "hash": "041c88a0381d4355379849f66bff3ebdfd0df137b518697e49df030e073125c4"
      }
    }
  },
  "nbformat": 4,
  "nbformat_minor": 0
}
