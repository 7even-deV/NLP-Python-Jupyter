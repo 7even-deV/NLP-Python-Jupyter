{
  "cells": [
    {
      "cell_type": "markdown",
      "metadata": {
        "id": "sAEtj7PC7npG"
      },
      "source": [
        "# 3. Entrenamiento y testeo"
      ]
    },
    {
      "cell_type": "code",
      "execution_count": 86,
      "metadata": {
        "colab": {
          "base_uri": "https://localhost:8080/"
        },
        "id": "tG2KeUOg7npG",
        "outputId": "16befafb-f69e-4992-bbc2-fcc1d7b6dd0c"
      },
      "outputs": [
        {
          "name": "stdout",
          "output_type": "stream",
          "text": [
            "Requirement already satisfied: stop_words in c:\\users\\seven\\appdata\\local\\programs\\python\\python310\\lib\\site-packages (2018.7.23)\n"
          ]
        },
        {
          "name": "stderr",
          "output_type": "stream",
          "text": [
            "WARNING: You are using pip version 21.2.4; however, version 22.1.2 is available.\n",
            "You should consider upgrading via the 'C:\\Users\\Seven\\AppData\\Local\\Programs\\Python\\Python310\\python.exe -m pip install --upgrade pip' command.\n"
          ]
        },
        {
          "name": "stdout",
          "output_type": "stream",
          "text": [
            "Requirement already satisfied: vaderSentiment in c:\\users\\seven\\appdata\\local\\programs\\python\\python310\\lib\\site-packages (3.3.2)\n",
            "Requirement already satisfied: requests in c:\\users\\seven\\appdata\\local\\programs\\python\\python310\\lib\\site-packages (from vaderSentiment) (2.26.0)\n",
            "Requirement already satisfied: urllib3<1.27,>=1.21.1 in c:\\users\\seven\\appdata\\local\\programs\\python\\python310\\lib\\site-packages (from requests->vaderSentiment) (1.26.7)\n",
            "Requirement already satisfied: idna<4,>=2.5 in c:\\users\\seven\\appdata\\local\\programs\\python\\python310\\lib\\site-packages (from requests->vaderSentiment) (2.10)\n",
            "Requirement already satisfied: certifi>=2017.4.17 in c:\\users\\seven\\appdata\\local\\programs\\python\\python310\\lib\\site-packages (from requests->vaderSentiment) (2021.10.8)\n",
            "Requirement already satisfied: charset-normalizer~=2.0.0 in c:\\users\\seven\\appdata\\local\\programs\\python\\python310\\lib\\site-packages (from requests->vaderSentiment) (2.0.9)\n"
          ]
        },
        {
          "name": "stderr",
          "output_type": "stream",
          "text": [
            "WARNING: You are using pip version 21.2.4; however, version 22.1.2 is available.\n",
            "You should consider upgrading via the 'C:\\Users\\Seven\\AppData\\Local\\Programs\\Python\\Python310\\python.exe -m pip install --upgrade pip' command.\n"
          ]
        }
      ],
      "source": [
        "# Importar paquetes necesarios\n",
        "import sys\n",
        "sys.path.append('../..')\n",
        "\n",
        "import string\n",
        "import unicodedata\n",
        "!pip install stop_words\n",
        "from stop_words import get_stop_words\n",
        "\n",
        "!pip install vaderSentiment\n",
        "from vaderSentiment.vaderSentiment import SentimentIntensityAnalyzer\n",
        "\n",
        "import sys\n",
        "sys.path.append('../..')\n",
        "\n",
        "import random\n",
        "import numpy as np\n",
        "import pandas as pd\n",
        "import os\n",
        "\n",
        "from sklearn.model_selection import train_test_split\n",
        "from sklearn.pipeline import Pipeline\n",
        "from sklearn.feature_extraction.text import CountVectorizer, TfidfVectorizer\n",
        "from sklearn.feature_selection import chi2\n",
        "from sklearn.linear_model import LogisticRegression\n",
        "from sklearn.metrics import accuracy_score, confusion_matrix, classification_report, roc_curve, precision_recall_curve\n",
        "\n",
        "import matplotlib.pyplot as plt"
      ]
    },
    {
      "cell_type": "code",
      "execution_count": 87,
      "metadata": {
        "colab": {
          "base_uri": "https://localhost:8080/"
        },
        "id": "f75qOujW8Ndc",
        "outputId": "c761a189-aa9d-4354-d861-b05627b2a831"
      },
      "outputs": [],
      "source": [
        "# Datos descargados de http://jmcauley.ucsd.edu/data/amazon/\n",
        "# ! unzip datasets.zip\n",
        "\n",
        "import zipfile\n",
        "with zipfile.ZipFile(\"datasets.zip\", \"r\") as z:\n",
        "    z.extractall(\".\")"
      ]
    },
    {
      "cell_type": "code",
      "execution_count": 88,
      "metadata": {
        "colab": {
          "base_uri": "https://localhost:8080/",
          "height": 111
        },
        "id": "sLzjXe-18DM3",
        "outputId": "f1b33ddc-9e83-4a6a-e4b2-b2772643bd44"
      },
      "outputs": [
        {
          "data": {
            "text/html": [
              "<div>\n",
              "<style scoped>\n",
              "    .dataframe tbody tr th:only-of-type {\n",
              "        vertical-align: middle;\n",
              "    }\n",
              "\n",
              "    .dataframe tbody tr th {\n",
              "        vertical-align: top;\n",
              "    }\n",
              "\n",
              "    .dataframe thead th {\n",
              "        text-align: right;\n",
              "    }\n",
              "</style>\n",
              "<table border=\"1\" class=\"dataframe\">\n",
              "  <thead>\n",
              "    <tr style=\"text-align: right;\">\n",
              "      <th></th>\n",
              "      <th>reviewText</th>\n",
              "      <th>overall</th>\n",
              "    </tr>\n",
              "  </thead>\n",
              "  <tbody>\n",
              "    <tr>\n",
              "      <th>0</th>\n",
              "      <td>Not much to write about here, but it does exac...</td>\n",
              "      <td>5</td>\n",
              "    </tr>\n",
              "    <tr>\n",
              "      <th>1</th>\n",
              "      <td>The product does exactly as it should and is q...</td>\n",
              "      <td>5</td>\n",
              "    </tr>\n",
              "    <tr>\n",
              "      <th>2</th>\n",
              "      <td>The primary job of this device is to block the...</td>\n",
              "      <td>5</td>\n",
              "    </tr>\n",
              "  </tbody>\n",
              "</table>\n",
              "</div>"
            ],
            "text/plain": [
              "                                          reviewText  overall\n",
              "0  Not much to write about here, but it does exac...        5\n",
              "1  The product does exactly as it should and is q...        5\n",
              "2  The primary job of this device is to block the...        5"
            ]
          },
          "execution_count": 88,
          "metadata": {},
          "output_type": "execute_result"
        }
      ],
      "source": [
        "datasets_path = 'datasets'\n",
        "instruments_json = 'reviews_Musical_Instruments_5.json.gz'\n",
        "df_instruments = pd.read_json(os.path.join(datasets_path, instruments_json), lines = True, compression = 'gzip')\n",
        "\n",
        "# Subconjunto de características 'reviewText' y 'overall'\n",
        "reviews = df_instruments[['reviewText', 'overall']]\n",
        "\n",
        "reviews.head(3)"
      ]
    },
    {
      "cell_type": "code",
      "execution_count": 89,
      "metadata": {
        "colab": {
          "base_uri": "https://localhost:8080/",
          "height": 521
        },
        "id": "0J8TnN7CV0z5",
        "outputId": "946aa9dd-c933-4c7c-afe6-3b91cb7666d0"
      },
      "outputs": [
        {
          "name": "stderr",
          "output_type": "stream",
          "text": [
            "C:\\Users\\Seven\\AppData\\Local\\Temp\\ipykernel_8400\\763786958.py:2: SettingWithCopyWarning: \n",
            "A value is trying to be set on a copy of a slice from a DataFrame.\n",
            "Try using .loc[row_indexer,col_indexer] = value instead\n",
            "\n",
            "See the caveats in the documentation: https://pandas.pydata.org/pandas-docs/stable/user_guide/indexing.html#returning-a-view-versus-a-copy\n",
            "  reviews.loc[:, 'sentiment'] = [0 if overall <= 3 else 1 for overall in reviews['overall']]\n"
          ]
        },
        {
          "data": {
            "text/plain": [
              "<AxesSubplot:title={'center':'Overall sentiment distribution'}>"
            ]
          },
          "execution_count": 89,
          "metadata": {},
          "output_type": "execute_result"
        },
        {
          "data": {
            "image/png": "[encoded data removed]",
            "text/plain": [
              "<Figure size 576x288 with 1 Axes>"
            ]
          },
          "metadata": {
            "needs_background": "light"
          },
          "output_type": "display_data"
        }
      ],
      "source": [
        "# Personalmente creo que 3 es una review negativa\n",
        "reviews.loc[:, 'sentiment'] = [0 if overall <= 3 else 1 for overall in reviews['overall']]\n",
        "aux = pd.DataFrame(reviews['sentiment'].value_counts(sort=False).sort_index())\n",
        "ax = aux.plot(kind='bar', title='Overall sentiment distribution', figsize=(8, 4))\n",
        "\n",
        "ax"
      ]
    },
    {
      "cell_type": "code",
      "execution_count": 90,
      "metadata": {
        "id": "1MCGH84T7npM"
      },
      "outputs": [],
      "source": [
        "# Balanceo de clases\n",
        "df_positive = reviews[reviews['sentiment'] == 1]\n",
        "df_negative = reviews[reviews['sentiment'] == 0]\n",
        "\n",
        "data_instruments = reviews.groupby('sentiment', group_keys=False).apply(lambda x: x.sample(min(len(x), df_negative.shape[0])))"
      ]
    },
    {
      "cell_type": "code",
      "execution_count": 91,
      "metadata": {
        "colab": {
          "base_uri": "https://localhost:8080/",
          "height": 295
        },
        "id": "GTHJa3n47npN",
        "outputId": "fe323ec3-4054-417b-d948-c88efdbddc4c"
      },
      "outputs": [
        {
          "data": {
            "text/plain": [
              "<AxesSubplot:title={'center':'Overall sentiment distribution'}>"
            ]
          },
          "execution_count": 91,
          "metadata": {},
          "output_type": "execute_result"
        },
        {
          "data": {
            "image/png": "[encoded data removed]",
            "text/plain": [
              "<Figure size 576x288 with 1 Axes>"
            ]
          },
          "metadata": {
            "needs_background": "light"
          },
          "output_type": "display_data"
        }
      ],
      "source": [
        "aux = pd.DataFrame(data_instruments['sentiment'].value_counts(sort=False).sort_index())\n",
        "ax = aux.plot(kind='bar', title='Overall sentiment distribution', figsize=(8, 4))\n",
        "\n",
        "ax"
      ]
    },
    {
      "cell_type": "markdown",
      "metadata": {
        "id": "yDrBSlyK7npN"
      },
      "source": [
        "## Análisis de sentimiento usando VADER\n",
        "\n",
        "Usaremos VADER para caracterizar el corpus y ver el histograma de polaridad de las reviews.\n"
      ]
    },
    {
      "cell_type": "code",
      "execution_count": 92,
      "metadata": {
        "id": "GXmgZi0O7npO"
      },
      "outputs": [],
      "source": [
        "vader_analyser = SentimentIntensityAnalyzer()"
      ]
    },
    {
      "cell_type": "code",
      "execution_count": 93,
      "metadata": {
        "colab": {
          "base_uri": "https://localhost:8080/"
        },
        "id": "CSNTWNuC7npO",
        "outputId": "f2c9c64c-800a-4e41-e473-50c9cf7bd729"
      },
      "outputs": [
        {
          "name": "stdout",
          "output_type": "stream",
          "text": [
            "I like this preamp. I use one channel for microphone and the other for an electric guitar with good results.Is very sadly and spendthrift that its useful life will be the duration of its tube, another concept of producci&oacute;n nothing considered with consumer and planet.\n",
            "{'neg': 0.059, 'neu': 0.783, 'pos': 0.158, 'compound': 0.6378}\n"
          ]
        }
      ],
      "source": [
        "review_neg = data_instruments[data_instruments['sentiment'] == 0].sample(1)['reviewText'].values[0]\n",
        "\n",
        "print(review_neg)\n",
        "print(vader_analyser.polarity_scores(review_neg))"
      ]
    },
    {
      "cell_type": "code",
      "execution_count": 94,
      "metadata": {
        "colab": {
          "base_uri": "https://localhost:8080/"
        },
        "id": "U3-SiQ1u7npP",
        "outputId": "71af80c6-e36d-4f6a-e974-71e3db149038"
      },
      "outputs": [
        {
          "name": "stdout",
          "output_type": "stream",
          "text": [
            "When I found that my USB microphone cannot stand on the tripod that came with it, I was so glad that I bought this stand along with the mic based on all the positive reviews. This stand is basically dead weight. That's exactly what I wanted from a desk stand.\n",
            "{'neg': 0.073, 'neu': 0.8, 'pos': 0.127, 'compound': 0.4882}\n"
          ]
        }
      ],
      "source": [
        "review_pos = data_instruments[data_instruments['sentiment'] == 1].sample(1)['reviewText'].values[0]\n",
        "\n",
        "print(review_pos)\n",
        "print(vader_analyser.polarity_scores(review_pos))"
      ]
    },
    {
      "cell_type": "code",
      "execution_count": 95,
      "metadata": {
        "id": "BwqIpmP87npP"
      },
      "outputs": [],
      "source": [
        "# Función VADER para detectar sentimiento\n",
        "analyzer = SentimentIntensityAnalyzer()\n",
        "\n",
        "def vader_sentiment(text):\n",
        "    return analyzer.polarity_scores(text)['compound']\n",
        "\n",
        "# Ejecución\n",
        "data_instruments['vader_polarity'] = data_instruments['reviewText'].apply(vader_sentiment)"
      ]
    },
    {
      "cell_type": "code",
      "execution_count": 96,
      "metadata": {
        "colab": {
          "base_uri": "https://localhost:8080/",
          "height": 404
        },
        "id": "uE3lXKGy7npP",
        "outputId": "c9f38570-057c-4422-a23e-7566d463e6a7"
      },
      "outputs": [
        {
          "data": {
            "image/png": "[encoded data removed]",
            "text/plain": [
              "<Figure size 720x432 with 1 Axes>"
            ]
          },
          "metadata": {
            "needs_background": "light"
          },
          "output_type": "display_data"
        }
      ],
      "source": [
        "# Comprobar la distribución de los resultados de sentimiento del vendedor\n",
        "num_bins = 50\n",
        "plt.figure(figsize=(10,6))\n",
        "n, bins, patches = plt.hist(data_instruments.vader_polarity, num_bins, facecolor='blue', alpha=0.5)\n",
        "plt.xlabel('Polarity')\n",
        "plt.ylabel('Count')\n",
        "plt.title('Histogram of polarity')\n",
        "\n",
        "plt.show();"
      ]
    },
    {
      "cell_type": "markdown",
      "metadata": {
        "id": "t244nogm7npQ"
      },
      "source": [
        "Con VADER es muy fácil tener una estimación del sentimiento generral de los usuarios muy rápidamente."
      ]
    },
    {
      "cell_type": "code",
      "execution_count": 97,
      "metadata": {
        "id": "GpGHrJad7npR"
      },
      "outputs": [],
      "source": [
        "# Preprocesado\n",
        "def get_lemmas_dict(data_path, lemmas_dict_file):\n",
        "    lemmas_dict = {}\n",
        "    with open(os.path.join(data_path, lemmas_dict_file), 'r', encoding='utf-8') as f:\n",
        "        for line in f:\n",
        "            (key, val) = line.split()\n",
        "            lemmas_dict[str(val)] = key\n",
        "    return lemmas_dict\n",
        "\n",
        "lemmas_path = 'datasets'\n",
        "english_lemmas = 'lemmatization.txt'\n",
        "\n",
        "english_lemmas_dict = get_lemmas_dict(lemmas_path, english_lemmas)\n",
        "sw_list = get_stop_words('english')\n",
        "\n",
        "\n",
        "def text_normalizer(text, lemmas_dict=None, sw_list=None):\n",
        "\n",
        "    processed_text = []\n",
        "\n",
        "    if sw_list is None:\n",
        "        sw_list = []\n",
        "\n",
        "    # Convertir a minúsculas\n",
        "    text = text.lower()\n",
        "\n",
        "    # Eliminar dígitos\n",
        "    text = ''.join([c for c in text if not c.isdigit()])\n",
        "\n",
        "    # Eliminar carácteres extraños\n",
        "    text = unicodedata.normalize('NFKD', text).encode('ascii', 'ignore').decode('utf-8', 'ignore')\n",
        "\n",
        "    # Eliminar puntuación\n",
        "    table = str.maketrans('', '', string.punctuation)\n",
        "\n",
        "    # Dividir en sentencias\n",
        "    sentences = text.split('.')\n",
        "\n",
        "    for sentence in sentences:\n",
        "        words = sentence.split(' ')\n",
        "        for word in words:\n",
        "            if word not in sw_list:\n",
        "                if word not in string.punctuation:\n",
        "                    word = word.translate(table)\n",
        "                    if lemmas_dict is not None:\n",
        "                        word = lemmas_dict.get(word, word)\n",
        "                processed_text.append(word)\n",
        "\n",
        "    return ' '.join(processed_text)"
      ]
    },
    {
      "cell_type": "code",
      "execution_count": 98,
      "metadata": {
        "colab": {
          "base_uri": "https://localhost:8080/",
          "height": 376
        },
        "id": "mWLVlDRx7npS",
        "outputId": "07496669-0ec2-4d46-961a-221577352cfa"
      },
      "outputs": [
        {
          "data": {
            "text/html": [
              "<div>\n",
              "<style scoped>\n",
              "    .dataframe tbody tr th:only-of-type {\n",
              "        vertical-align: middle;\n",
              "    }\n",
              "\n",
              "    .dataframe tbody tr th {\n",
              "        vertical-align: top;\n",
              "    }\n",
              "\n",
              "    .dataframe thead th {\n",
              "        text-align: right;\n",
              "    }\n",
              "</style>\n",
              "<table border=\"1\" class=\"dataframe\">\n",
              "  <thead>\n",
              "    <tr style=\"text-align: right;\">\n",
              "      <th></th>\n",
              "      <th>reviewText</th>\n",
              "      <th>overall</th>\n",
              "      <th>sentiment</th>\n",
              "      <th>vader_polarity</th>\n",
              "      <th>processed_text</th>\n",
              "    </tr>\n",
              "  </thead>\n",
              "  <tbody>\n",
              "    <tr>\n",
              "      <th>8107</th>\n",
              "      <td>It works but shut it down as soon as you are f...</td>\n",
              "      <td>3</td>\n",
              "      <td>0</td>\n",
              "      <td>-0.1154</td>\n",
              "      <td>work shut soon finish tune  eat battery like n...</td>\n",
              "    </tr>\n",
              "    <tr>\n",
              "      <th>6218</th>\n",
              "      <td>Unhappy with it, actually I already replaced t...</td>\n",
              "      <td>1</td>\n",
              "      <td>0</td>\n",
              "      <td>-0.2672</td>\n",
              "      <td>unhappy it actually already replace  method at...</td>\n",
              "    </tr>\n",
              "    <tr>\n",
              "      <th>9964</th>\n",
              "      <td>It only cost around $20 so my expectations wer...</td>\n",
              "      <td>3</td>\n",
              "      <td>0</td>\n",
              "      <td>0.0000</td>\n",
              "      <td>cost around $ expectation high begin right box...</td>\n",
              "    </tr>\n",
              "    <tr>\n",
              "      <th>1178</th>\n",
              "      <td>It is not the size for mini guitar. May be for...</td>\n",
              "      <td>2</td>\n",
              "      <td>0</td>\n",
              "      <td>-0.0258</td>\n",
              "      <td>size mini guitar  may big one   connection sha...</td>\n",
              "    </tr>\n",
              "    <tr>\n",
              "      <th>3145</th>\n",
              "      <td>I can't believe these were actually sent to me...</td>\n",
              "      <td>1</td>\n",
              "      <td>0</td>\n",
              "      <td>0.9583</td>\n",
              "      <td>believe actually send  head small normal pickg...</td>\n",
              "    </tr>\n",
              "  </tbody>\n",
              "</table>\n",
              "</div>"
            ],
            "text/plain": [
              "                                             reviewText  overall  sentiment  \\\n",
              "8107  It works but shut it down as soon as you are f...        3          0   \n",
              "6218  Unhappy with it, actually I already replaced t...        1          0   \n",
              "9964  It only cost around $20 so my expectations wer...        3          0   \n",
              "1178  It is not the size for mini guitar. May be for...        2          0   \n",
              "3145  I can't believe these were actually sent to me...        1          0   \n",
              "\n",
              "      vader_polarity                                     processed_text  \n",
              "8107         -0.1154  work shut soon finish tune  eat battery like n...  \n",
              "6218         -0.2672  unhappy it actually already replace  method at...  \n",
              "9964          0.0000  cost around $ expectation high begin right box...  \n",
              "1178         -0.0258  size mini guitar  may big one   connection sha...  \n",
              "3145          0.9583  believe actually send  head small normal pickg...  "
            ]
          },
          "execution_count": 98,
          "metadata": {},
          "output_type": "execute_result"
        }
      ],
      "source": [
        "# Nueva columna con texto procesado\n",
        "data_instruments['processed_text'] = data_instruments['reviewText'].apply(lambda text: text_normalizer(text=text, lemmas_dict=english_lemmas_dict, sw_list=sw_list))\n",
        "\n",
        "data_instruments.head()"
      ]
    },
    {
      "cell_type": "markdown",
      "metadata": {
        "id": "v2_s1-fTjEaX"
      },
      "source": [
        "**Modelo 1: Regresión logística con texto sin procesar**"
      ]
    },
    {
      "cell_type": "code",
      "execution_count": 99,
      "metadata": {
        "colab": {
          "base_uri": "https://localhost:8080/"
        },
        "id": "ZJoGX6iZ7npV",
        "outputId": "d1f09c43-b01d-4169-c05d-ee4292266804"
      },
      "outputs": [
        {
          "name": "stderr",
          "output_type": "stream",
          "text": [
            "C:\\Users\\Seven\\AppData\\Local\\Temp\\ipykernel_8400\\2453639723.py:1: SettingWithCopyWarning: \n",
            "A value is trying to be set on a copy of a slice from a DataFrame\n",
            "\n",
            "See the caveats in the documentation: https://pandas.pydata.org/pandas-docs/stable/user_guide/indexing.html#returning-a-view-versus-a-copy\n",
            "  reviews.dropna(inplace=True)\n"
          ]
        }
      ],
      "source": [
        "reviews.dropna(inplace=True)\n",
        "\n",
        "X_train, X_test, y_train, y_test = train_test_split(\n",
        "    data_instruments['reviewText'],\n",
        "    data_instruments['sentiment'],\n",
        "    train_size=0.80,\n",
        "    test_size=0.20,\n",
        "    random_state=17,\n",
        "    shuffle=True\n",
        ")"
      ]
    },
    {
      "cell_type": "code",
      "execution_count": 100,
      "metadata": {
        "colab": {
          "base_uri": "https://localhost:8080/"
        },
        "id": "g8qNKaQR7npV",
        "outputId": "83261dc5-f748-41a6-96a2-6f43667dc57f"
      },
      "outputs": [
        {
          "data": {
            "text/plain": [
              "TfidfVectorizer(max_df=0.95, max_features=2500, min_df=5, strip_accents='ascii')"
            ]
          },
          "execution_count": 100,
          "metadata": {},
          "output_type": "execute_result"
        }
      ],
      "source": [
        "# TFIdvectorizer\n",
        "cv = TfidfVectorizer(\n",
        "    max_df=0.95,\n",
        "    min_df=5,\n",
        "    max_features=2500,\n",
        "    strip_accents='ascii',\n",
        "    ngram_range=(1, 1)\n",
        ")\n",
        "cv.fit(X_train)"
      ]
    },
    {
      "cell_type": "code",
      "execution_count": 101,
      "metadata": {
        "id": "O7ue7vzJ7npW"
      },
      "outputs": [],
      "source": [
        "X_train_ = cv.transform(X_train)\n",
        "X_test_ = cv.transform(X_test)"
      ]
    },
    {
      "cell_type": "code",
      "execution_count": 102,
      "metadata": {
        "colab": {
          "base_uri": "https://localhost:8080/"
        },
        "id": "AhDyFfE17npX",
        "outputId": "3f215fde-20a7-42b2-8d3a-065171ae99f4"
      },
      "outputs": [
        {
          "name": "stdout",
          "output_type": "stream",
          "text": [
            "Accuracy for C=0.01: 0.5645161290322581\n",
            "Accuracy for C=0.05: 0.7036290322580645\n",
            "Accuracy for C=0.25: 0.7459677419354839\n",
            "Accuracy for C=0.5: 0.7459677419354839\n",
            "Accuracy for C=1: 0.7419354838709677\n",
            "Accuracy for C=10: 0.7258064516129032\n",
            "Accuracy for C=100: 0.7076612903225806\n",
            "Accuracy for C=1000: 0.6975806451612904\n",
            "Accuracy for C=10000: 0.6915322580645161\n"
          ]
        }
      ],
      "source": [
        "c_params = [0.01, 0.05, 0.25, 0.5, 1, 10, 100, 1000, 10000]\n",
        "\n",
        "train_acc = list()\n",
        "test_acc = list()\n",
        "\n",
        "for c in c_params:\n",
        "    lr = LogisticRegression(C=c, solver='lbfgs', max_iter=500)\n",
        "    lr.fit(X_train_, y_train)\n",
        "\n",
        "    train_predict = lr.predict(X_train_)\n",
        "    test_predict = lr.predict(X_test_)\n",
        "\n",
        "    print (f\"Accuracy for C={c}: {accuracy_score(y_test, test_predict)}\")\n",
        "\n",
        "    train_acc.append(accuracy_score(y_train, train_predict))\n",
        "    test_acc.append(accuracy_score(y_test, test_predict))"
      ]
    },
    {
      "cell_type": "code",
      "execution_count": 103,
      "metadata": {
        "colab": {
          "base_uri": "https://localhost:8080/"
        },
        "id": "DyQzncBD7npY",
        "outputId": "fa004ce1-a09d-4de8-eb9d-2a9f8c38727d"
      },
      "outputs": [
        {
          "name": "stdout",
          "output_type": "stream",
          "text": [
            "Confussion matrix:\n",
            "[[182  84]\n",
            " [ 69 161]]\n",
            "\n",
            "Classification report:\n",
            "              precision    recall  f1-score   support\n",
            "\n",
            "           0       0.73      0.68      0.70       266\n",
            "           1       0.66      0.70      0.68       230\n",
            "\n",
            "    accuracy                           0.69       496\n",
            "   macro avg       0.69      0.69      0.69       496\n",
            "weighted avg       0.69      0.69      0.69       496\n",
            "\n",
            "Accuracy score:0.6915322580645161\n"
          ]
        }
      ],
      "source": [
        "print(f\"Confussion matrix:\\n{confusion_matrix(y_test, test_predict)}\")\n",
        "print(f\"\\nClassification report:\\n{classification_report(y_test, test_predict)}\")\n",
        "print(f\"Accuracy score:{accuracy_score(y_test, test_predict)}\")"
      ]
    },
    {
      "cell_type": "code",
      "execution_count": 104,
      "metadata": {
        "colab": {
          "base_uri": "https://localhost:8080/",
          "height": 444
        },
        "id": "fTGoTzHP7npY",
        "outputId": "1ce77050-e128-42c1-8c6e-eadccb2fd235"
      },
      "outputs": [
        {
          "data": {
            "image/png": "[encoded data removed]",
            "text/plain": [
              "<Figure size 864x576 with 1 Axes>"
            ]
          },
          "metadata": {
            "needs_background": "light"
          },
          "output_type": "display_data"
        }
      ],
      "source": [
        "plt.figure(figsize=(12, 8))\n",
        "plt.plot(train_acc, label='train')\n",
        "plt.plot(test_acc, label='test')\n",
        "plt.axvline(np.argmax(test_acc), c='g', ls='--', alpha=0.8)\n",
        "plt.title('Accuracy evolution for different C values')\n",
        "plt.xlabel('C')\n",
        "plt.ylabel('Accuracy')\n",
        "plt.legend()\n",
        "plt.grid()\n",
        "plt.xticks(list(range(len(c_params))), c_params)\n",
        "plt.tight_layout()\n",
        "\n",
        "plt.show()"
      ]
    },
    {
      "cell_type": "markdown",
      "metadata": {
        "id": "ho88efL77npY"
      },
      "source": [
        "**Modelo 2: Regresión logística con texto procesado**"
      ]
    },
    {
      "cell_type": "code",
      "execution_count": 105,
      "metadata": {
        "id": "DIjeoUQC7npY"
      },
      "outputs": [],
      "source": [
        "X_train, X_test, y_train, y_test = train_test_split(\n",
        "    data_instruments['processed_text'],\n",
        "    data_instruments['sentiment'],\n",
        "    train_size=0.80,\n",
        "    test_size=0.20,\n",
        "    random_state=17,\n",
        "    shuffle=True\n",
        ")\n",
        "\n",
        "cv = TfidfVectorizer(\n",
        "    max_df=0.95,\n",
        "    min_df=5,\n",
        "    max_features=2500,\n",
        "    strip_accents='ascii',\n",
        "    ngram_range=(1, 1)\n",
        ")\n",
        "\n",
        "cv.fit(X_train)\n",
        "\n",
        "X_train_ = cv.transform(X_train)\n",
        "X_test_ = cv.transform(X_test)"
      ]
    },
    {
      "cell_type": "code",
      "execution_count": 106,
      "metadata": {
        "colab": {
          "base_uri": "https://localhost:8080/"
        },
        "id": "ZDTH7nOf7npZ",
        "outputId": "7a1e7412-309a-4915-ce8c-3f6ad184db24"
      },
      "outputs": [
        {
          "name": "stdout",
          "output_type": "stream",
          "text": [
            "Accuracy for C=0.01: 0.4959677419354839\n",
            "Accuracy for C=0.05: 0.6814516129032258\n",
            "Accuracy for C=0.25: 0.7076612903225806\n",
            "Accuracy for C=0.5: 0.717741935483871\n",
            "Accuracy for C=1: 0.7076612903225806\n",
            "Accuracy for C=10: 0.6754032258064516\n",
            "Accuracy for C=100: 0.6451612903225806\n",
            "Accuracy for C=1000: 0.6229838709677419\n",
            "Accuracy for C=10000: 0.6108870967741935\n"
          ]
        }
      ],
      "source": [
        "c_params = [0.01, 0.05, 0.25, 0.5, 1, 10, 100, 1000, 10000]\n",
        "\n",
        "train_acc = list()\n",
        "test_acc = list()\n",
        "\n",
        "for c in c_params:\n",
        "    lr = LogisticRegression(C=c, solver='lbfgs', max_iter=500)\n",
        "    lr.fit(X_train_, y_train)\n",
        "\n",
        "    train_predict = lr.predict(X_train_)\n",
        "    test_predict = lr.predict(X_test_)\n",
        "\n",
        "    print (f\"Accuracy for C={c}: {accuracy_score(y_test, test_predict)}\")\n",
        "\n",
        "    train_acc.append(accuracy_score(y_train, train_predict))\n",
        "    test_acc.append(accuracy_score(y_test, test_predict))"
      ]
    },
    {
      "cell_type": "code",
      "execution_count": 107,
      "metadata": {
        "colab": {
          "base_uri": "https://localhost:8080/"
        },
        "id": "8AjbWXXb7npZ",
        "outputId": "941f1a06-559a-4867-e33e-8facd17a71bb"
      },
      "outputs": [
        {
          "name": "stdout",
          "output_type": "stream",
          "text": [
            "Confussion matrix:\n",
            "[[163 103]\n",
            " [ 90 140]]\n",
            "\n",
            "Classification report:\n",
            "              precision    recall  f1-score   support\n",
            "\n",
            "           0       0.64      0.61      0.63       266\n",
            "           1       0.58      0.61      0.59       230\n",
            "\n",
            "    accuracy                           0.61       496\n",
            "   macro avg       0.61      0.61      0.61       496\n",
            "weighted avg       0.61      0.61      0.61       496\n",
            "\n",
            "Accuracy score:0.6108870967741935\n"
          ]
        }
      ],
      "source": [
        "print(f\"Confussion matrix:\\n{confusion_matrix(y_test, test_predict)}\")\n",
        "print(f\"\\nClassification report:\\n{classification_report(y_test, test_predict)}\")\n",
        "print(f\"Accuracy score:{accuracy_score(y_test, test_predict)}\")"
      ]
    },
    {
      "cell_type": "code",
      "execution_count": 108,
      "metadata": {
        "colab": {
          "base_uri": "https://localhost:8080/",
          "height": 444
        },
        "id": "bo_AQYF77npZ",
        "outputId": "0e9abe89-3f94-42f1-d512-7e3bbefb3781"
      },
      "outputs": [
        {
          "data": {
            "image/png": "[encoded data removed]",
            "text/plain": [
              "<Figure size 864x576 with 1 Axes>"
            ]
          },
          "metadata": {
            "needs_background": "light"
          },
          "output_type": "display_data"
        }
      ],
      "source": [
        "plt.figure(figsize=(12, 8))\n",
        "plt.plot(train_acc, label='train')\n",
        "plt.plot(test_acc, label='test')\n",
        "plt.axvline(np.argmax(test_acc), c='g', ls='--', alpha=0.8)\n",
        "plt.title('Accuracy evolution for different C values')\n",
        "plt.xlabel('C')\n",
        "plt.ylabel('Accuracy')\n",
        "plt.legend()\n",
        "plt.grid()\n",
        "plt.xticks(list(range(len(c_params))), c_params)\n",
        "plt.tight_layout()\n",
        "\n",
        "plt.show()"
      ]
    },
    {
      "cell_type": "markdown",
      "metadata": {
        "id": "j7yVZ0VL7npc"
      },
      "source": [
        "**Modelo 3: Random Forest con texto procesado**"
      ]
    },
    {
      "cell_type": "code",
      "execution_count": 109,
      "metadata": {
        "id": "Vl1tbSGl7npc"
      },
      "outputs": [],
      "source": [
        "X_train, X_test, y_train, y_test = train_test_split(\n",
        "    data_instruments['processed_text'],\n",
        "    data_instruments['sentiment'],\n",
        "    train_size=0.80,\n",
        "    test_size=0.20,\n",
        "    random_state=17,\n",
        "    shuffle=True\n",
        ")\n",
        "\n",
        "cv = TfidfVectorizer(\n",
        "    max_df=0.95,\n",
        "    min_df=5,\n",
        "    max_features=2500,\n",
        "    strip_accents='ascii',\n",
        "    ngram_range=(1, 1)\n",
        ")\n",
        "\n",
        "cv.fit(X_train)\n",
        "\n",
        "X_train_ = cv.transform(X_train)\n",
        "X_test_ = cv.transform(X_test)"
      ]
    },
    {
      "cell_type": "code",
      "execution_count": 110,
      "metadata": {
        "colab": {
          "base_uri": "https://localhost:8080/"
        },
        "id": "3YE0QnFA7npd",
        "outputId": "633274dd-121b-494e-ff49-73a55a5765d6"
      },
      "outputs": [
        {
          "name": "stdout",
          "output_type": "stream",
          "text": [
            "Accuracy for C=10: 0.6653225806451613\n",
            "Accuracy for C=50: 0.6955645161290323\n",
            "Accuracy for C=100: 0.7036290322580645\n"
          ]
        }
      ],
      "source": [
        "from sklearn.ensemble import RandomForestClassifier\n",
        "\n",
        "c_params = [10, 50, 100]\n",
        "\n",
        "train_acc = list()\n",
        "test_acc = list()\n",
        "\n",
        "for c in c_params:\n",
        "    rf = RandomForestClassifier(n_estimators=c)\n",
        "    rf.fit(X_train_, y_train)\n",
        "\n",
        "    train_predict = rf.predict(X_train_)\n",
        "    test_predict = rf.predict(X_test_)\n",
        "\n",
        "    print (f\"Accuracy for C={c}: {accuracy_score(y_test, test_predict)}\")\n",
        "\n",
        "    train_acc.append(accuracy_score(y_train, train_predict))\n",
        "    test_acc.append(accuracy_score(y_test, test_predict))"
      ]
    },
    {
      "cell_type": "code",
      "execution_count": 85,
      "metadata": {
        "colab": {
          "base_uri": "https://localhost:8080/"
        },
        "id": "kL4PD77b7npd",
        "outputId": "3187ddb3-d670-4bfd-e2f7-4755c2fd2f71"
      },
      "outputs": [
        {
          "name": "stdout",
          "output_type": "stream",
          "text": [
            "Confussion matrix:\n",
            "[[200  66]\n",
            " [ 57 173]]\n",
            "\n",
            "Classification report:\n",
            "              precision    recall  f1-score   support\n",
            "\n",
            "           0       0.78      0.75      0.76       266\n",
            "           1       0.72      0.75      0.74       230\n",
            "\n",
            "    accuracy                           0.75       496\n",
            "   macro avg       0.75      0.75      0.75       496\n",
            "weighted avg       0.75      0.75      0.75       496\n",
            "\n",
            "Accuracy score:0.7520161290322581\n"
          ]
        }
      ],
      "source": [
        "print(f\"Confussion matrix:\\n{confusion_matrix(y_test, test_predict)}\")\n",
        "print(f\"\\nClassification report:\\n{classification_report(y_test, test_predict)}\")\n",
        "print(f\"Accuracy score:{accuracy_score(y_test, test_predict)}\")"
      ]
    },
    {
      "cell_type": "code",
      "execution_count": 111,
      "metadata": {
        "colab": {
          "base_uri": "https://localhost:8080/",
          "height": 444
        },
        "id": "_u9xQSZH7npd",
        "outputId": "0f0960fe-d8fd-4978-bf43-ac854b6a3371"
      },
      "outputs": [
        {
          "data": {
            "image/png": "[encoded data removed]",
            "text/plain": [
              "<Figure size 864x576 with 1 Axes>"
            ]
          },
          "metadata": {
            "needs_background": "light"
          },
          "output_type": "display_data"
        }
      ],
      "source": [
        "plt.figure(figsize=(12, 8))\n",
        "plt.plot(train_acc, label='train')\n",
        "plt.plot(test_acc, label='test')\n",
        "plt.axvline(np.argmax(test_acc), c='g', ls='--', alpha=0.8)\n",
        "plt.title('Accuracy evolution for different C values')\n",
        "plt.xlabel('C')\n",
        "plt.ylabel('Accuracy')\n",
        "plt.legend()\n",
        "plt.grid()\n",
        "plt.xticks(list(range(len(c_params))), c_params)\n",
        "plt.tight_layout()\n",
        "\n",
        "plt.show()"
      ]
    },
    {
      "cell_type": "markdown",
      "metadata": {
        "id": "toQmMYr3kmTL"
      },
      "source": [
        "# Conclusión\n",
        "\n",
        "> Vemos que, de los modelos que hemos probado, el random forest nos da un accuracy razonable de 0.74, y por tanto es el mejor.\n",
        "\n",
        "> He ido modificando los parámetros del vectorizer y la modificación de los resultados no es notable.\n",
        "\n",
        "> Como mejora, podemos probar muchos más modelos, cambiando parámetros, eliminando palabras determinadas que puedan impactar en el accuracy, ampliando el procesamiento del texto, usando otros modelos de creación de características, ...\n"
      ]
    }
  ],
  "metadata": {
    "colab": {
      "collapsed_sections": [],
      "name": "3_Modelos.ipynb",
      "provenance": []
    },
    "kernelspec": {
      "display_name": "Python 3.10.1 64-bit",
      "language": "python",
      "name": "python3"
    },
    "language_info": {
      "codemirror_mode": {
        "name": "ipython",
        "version": 3
      },
      "file_extension": ".py",
      "mimetype": "text/x-python",
      "name": "python",
      "nbconvert_exporter": "python",
      "pygments_lexer": "ipython3",
      "version": "3.10.1"
    },
    "vscode": {
      "interpreter": {
        "hash": "041c88a0381d4355379849f66bff3ebdfd0df137b518697e49df030e073125c4"
      }
    }
  },
  "nbformat": 4,
  "nbformat_minor": 0
}
