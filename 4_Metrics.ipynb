{
  "cells": [
    {
      "cell_type": "markdown",
      "metadata": {
        "id": "MaKswYR27F4D"
      },
      "source": [
        "# 4. Métricas y conclusiones"
      ]
    },
    {
      "cell_type": "code",
      "execution_count": 81,
      "metadata": {
        "colab": {
          "base_uri": "https://localhost:8080/"
        },
        "id": "h-ThQAYIHY28",
        "outputId": "49eba64b-7406-44b4-f926-188dfd1851ec"
      },
      "outputs": [
        {
          "name": "stdout",
          "output_type": "stream",
          "text": [
            "Requirement already satisfied: stop_words in c:\\users\\seven\\appdata\\local\\programs\\python\\python310\\lib\\site-packages (2018.7.23)\n"
          ]
        },
        {
          "name": "stderr",
          "output_type": "stream",
          "text": [
            "WARNING: You are using pip version 21.2.4; however, version 22.1.2 is available.\n",
            "You should consider upgrading via the 'C:\\Users\\Seven\\AppData\\Local\\Programs\\Python\\Python310\\python.exe -m pip install --upgrade pip' command.\n"
          ]
        }
      ],
      "source": [
        "# Importar paquetes necesarios\n",
        "import sys\n",
        "sys.path.append('../..')\n",
        "\n",
        "import string\n",
        "import unicodedata\n",
        "!pip install stop_words\n",
        "from stop_words import get_stop_words\n",
        "\n",
        "import sys\n",
        "sys.path.append('../..')\n",
        "\n",
        "import random\n",
        "import numpy as np\n",
        "import pandas as pd\n",
        "import os\n",
        "\n",
        "from sklearn.model_selection import train_test_split\n",
        "from sklearn.pipeline import Pipeline\n",
        "from sklearn.feature_extraction.text import CountVectorizer, TfidfVectorizer\n",
        "from sklearn.feature_selection import chi2\n",
        "from sklearn.linear_model import LogisticRegression\n",
        "from sklearn.metrics import accuracy_score, confusion_matrix, classification_report, roc_curve, precision_recall_curve,recall_score\n",
        "\n",
        "import matplotlib.pyplot as plt"
      ]
    },
    {
      "cell_type": "code",
      "execution_count": 82,
      "metadata": {
        "colab": {
          "base_uri": "https://localhost:8080/"
        },
        "id": "5SBk7Zh0H2Gl",
        "outputId": "9af60370-f168-4675-ebe8-d9f95b4e5afd"
      },
      "outputs": [],
      "source": [
        "# Datos descargados de http://jmcauley.ucsd.edu/data/amazon/\n",
        "# ! unzip datasets.zip\n",
        "\n",
        "import zipfile\n",
        "with zipfile.ZipFile(\"datasets.zip\", \"r\") as z:\n",
        "    z.extractall(\".\")"
      ]
    },
    {
      "cell_type": "code",
      "execution_count": 83,
      "metadata": {
        "colab": {
          "base_uri": "https://localhost:8080/",
          "height": 111
        },
        "id": "gMXf3tsTHY29",
        "outputId": "e19c82dd-f5e4-4cef-e970-091637b0ee2a"
      },
      "outputs": [
        {
          "data": {
            "text/html": [
              "<div>\n",
              "<style scoped>\n",
              "    .dataframe tbody tr th:only-of-type {\n",
              "        vertical-align: middle;\n",
              "    }\n",
              "\n",
              "    .dataframe tbody tr th {\n",
              "        vertical-align: top;\n",
              "    }\n",
              "\n",
              "    .dataframe thead th {\n",
              "        text-align: right;\n",
              "    }\n",
              "</style>\n",
              "<table border=\"1\" class=\"dataframe\">\n",
              "  <thead>\n",
              "    <tr style=\"text-align: right;\">\n",
              "      <th></th>\n",
              "      <th>reviewText</th>\n",
              "      <th>overall</th>\n",
              "    </tr>\n",
              "  </thead>\n",
              "  <tbody>\n",
              "    <tr>\n",
              "      <th>0</th>\n",
              "      <td>Not much to write about here, but it does exac...</td>\n",
              "      <td>5</td>\n",
              "    </tr>\n",
              "    <tr>\n",
              "      <th>1</th>\n",
              "      <td>The product does exactly as it should and is q...</td>\n",
              "      <td>5</td>\n",
              "    </tr>\n",
              "    <tr>\n",
              "      <th>2</th>\n",
              "      <td>The primary job of this device is to block the...</td>\n",
              "      <td>5</td>\n",
              "    </tr>\n",
              "  </tbody>\n",
              "</table>\n",
              "</div>"
            ],
            "text/plain": [
              "                                          reviewText  overall\n",
              "0  Not much to write about here, but it does exac...        5\n",
              "1  The product does exactly as it should and is q...        5\n",
              "2  The primary job of this device is to block the...        5"
            ]
          },
          "execution_count": 83,
          "metadata": {},
          "output_type": "execute_result"
        }
      ],
      "source": [
        "datasets_path = 'datasets'\n",
        "instruments_json = 'reviews_Musical_Instruments_5.json.gz'\n",
        "df_instruments = pd.read_json(os.path.join(datasets_path, instruments_json), lines = True, compression = 'gzip')\n",
        "\n",
        "# Subconjunto de características 'reviewText' y 'overall'\n",
        "reviews = df_instruments[['reviewText','overall']]\n",
        "\n",
        "reviews.head(3)"
      ]
    },
    {
      "cell_type": "code",
      "execution_count": 84,
      "metadata": {
        "colab": {
          "base_uri": "https://localhost:8080/",
          "height": 418
        },
        "id": "qp9MhGfnHY3B",
        "outputId": "8940db26-d971-4070-b799-098cceeeb3a2"
      },
      "outputs": [
        {
          "name": "stderr",
          "output_type": "stream",
          "text": [
            "C:\\Users\\Seven\\AppData\\Local\\Temp\\ipykernel_8860\\609695815.py:2: SettingWithCopyWarning: \n",
            "A value is trying to be set on a copy of a slice from a DataFrame.\n",
            "Try using .loc[row_indexer,col_indexer] = value instead\n",
            "\n",
            "See the caveats in the documentation: https://pandas.pydata.org/pandas-docs/stable/user_guide/indexing.html#returning-a-view-versus-a-copy\n",
            "  reviews.loc[:, 'sentiment'] = [0 if overall <= 3 else 1 for overall in reviews['overall']]\n"
          ]
        },
        {
          "data": {
            "text/plain": [
              "<AxesSubplot:title={'center':'Overall sentiment distribution'}>"
            ]
          },
          "execution_count": 84,
          "metadata": {},
          "output_type": "execute_result"
        },
        {
          "data": {
            "image/png": "[encoded data removed]",
            "text/plain": [
              "<Figure size 576x288 with 1 Axes>"
            ]
          },
          "metadata": {
            "needs_background": "light"
          },
          "output_type": "display_data"
        }
      ],
      "source": [
        "#  Personalmente creo que 3 es una review negativa\n",
        "reviews.loc[:, 'sentiment'] = [0 if overall <= 3 else 1 for overall in reviews['overall']]\n",
        "aux = pd.DataFrame(reviews['sentiment'].value_counts(sort=False).sort_index())\n",
        "#ax = aux.plot(kind='bar', title='Overall sentiment distribution', figsize=(8, 4))\n",
        "\n",
        "# Balanceo de clases\n",
        "df_positive = reviews[reviews['sentiment'] == 1]\n",
        "df_negative = reviews[reviews['sentiment'] == 0]\n",
        "\n",
        "data_instruments = reviews.groupby('sentiment', group_keys=False).apply(lambda x: x.sample(min(len(x), df_negative.shape[0])))\n",
        "\n",
        "aux = pd.DataFrame(data_instruments['sentiment'].value_counts(sort=False).sort_index())\n",
        "ax = aux.plot(kind='bar', title='Overall sentiment distribution', figsize=(8, 4))\n",
        "ax"
      ]
    },
    {
      "cell_type": "code",
      "execution_count": 85,
      "metadata": {
        "id": "MyO-ZcyJHY3E"
      },
      "outputs": [],
      "source": [
        "# Preprocesado\n",
        "def get_lemmas_dict(data_path, lemmas_dict_file):\n",
        "    lemmas_dict = {}\n",
        "    with open(os.path.join(data_path, lemmas_dict_file), 'r', encoding='utf-8') as f:\n",
        "        for line in f:\n",
        "            (key, val) = line.split()\n",
        "            lemmas_dict[str(val)] = key\n",
        "    return lemmas_dict\n",
        "\n",
        "lemmas_path = 'datasets'\n",
        "english_lemmas = 'lemmatization.txt'\n",
        "\n",
        "english_lemmas_dict = get_lemmas_dict(lemmas_path, english_lemmas)\n",
        "sw_list = get_stop_words('english')\n",
        "\n",
        "\n",
        "def text_normalizer(text, lemmas_dict=None, sw_list=None):\n",
        "\n",
        "    processed_text = []\n",
        "\n",
        "    if sw_list is None:\n",
        "        sw_list = []\n",
        "\n",
        "    # Convertir a minúsculas\n",
        "    text = text.lower()\n",
        "\n",
        "    # Eliminar dígitos\n",
        "    text = ''.join([c for c in text if not c.isdigit()])\n",
        "\n",
        "    # Eliminar carácteres extraños\n",
        "    text = unicodedata.normalize('NFKD', text).encode('ascii', 'ignore').decode('utf-8', 'ignore')\n",
        "\n",
        "    # Eliminar puntuación\n",
        "    table = str.maketrans('', '', string.punctuation)\n",
        "\n",
        "    # Dividir en sentencias\n",
        "    sentences = text.split('.')\n",
        "\n",
        "    for sentence in sentences:\n",
        "        words = sentence.split(' ')\n",
        "        for word in words:\n",
        "            if word not in sw_list:\n",
        "                if word not in string.punctuation:\n",
        "                    word = word.translate(table)\n",
        "                    if lemmas_dict is not None:\n",
        "                        word = lemmas_dict.get(word, word)\n",
        "                processed_text.append(word)\n",
        "\n",
        "    return ' '.join(processed_text)"
      ]
    },
    {
      "cell_type": "code",
      "execution_count": 86,
      "metadata": {
        "colab": {
          "base_uri": "https://localhost:8080/",
          "height": 291
        },
        "id": "8NfJL29oHY3G",
        "outputId": "5692f2f3-cb1c-409f-e5e6-e83ca5f20ad7"
      },
      "outputs": [
        {
          "data": {
            "text/html": [
              "<div>\n",
              "<style scoped>\n",
              "    .dataframe tbody tr th:only-of-type {\n",
              "        vertical-align: middle;\n",
              "    }\n",
              "\n",
              "    .dataframe tbody tr th {\n",
              "        vertical-align: top;\n",
              "    }\n",
              "\n",
              "    .dataframe thead th {\n",
              "        text-align: right;\n",
              "    }\n",
              "</style>\n",
              "<table border=\"1\" class=\"dataframe\">\n",
              "  <thead>\n",
              "    <tr style=\"text-align: right;\">\n",
              "      <th></th>\n",
              "      <th>reviewText</th>\n",
              "      <th>overall</th>\n",
              "      <th>sentiment</th>\n",
              "      <th>processed_text</th>\n",
              "    </tr>\n",
              "  </thead>\n",
              "  <tbody>\n",
              "    <tr>\n",
              "      <th>3200</th>\n",
              "      <td>Back plate has a \"greenish\" tint, and is singl...</td>\n",
              "      <td>3</td>\n",
              "      <td>0</td>\n",
              "      <td>back plate greenish tint single ply ply advert...</td>\n",
              "    </tr>\n",
              "    <tr>\n",
              "      <th>6708</th>\n",
              "      <td>The picks we received were \"Legacy\" and not \"A...</td>\n",
              "      <td>3</td>\n",
              "      <td>0</td>\n",
              "      <td>pick receive legacy alice brand  picture good ...</td>\n",
              "    </tr>\n",
              "    <tr>\n",
              "      <th>8713</th>\n",
              "      <td>I purchased this instrument brand new, on an i...</td>\n",
              "      <td>2</td>\n",
              "      <td>0</td>\n",
              "      <td>purchase instrument brand new impulse whim due...</td>\n",
              "    </tr>\n",
              "    <tr>\n",
              "      <th>3677</th>\n",
              "      <td>It's okay. I've bought stands for less that we...</td>\n",
              "      <td>3</td>\n",
              "      <td>0</td>\n",
              "      <td>okay  buy stand little balance sturdy little s...</td>\n",
              "    </tr>\n",
              "    <tr>\n",
              "      <th>8827</th>\n",
              "      <td>First we have to realize this is not a $200 pi...</td>\n",
              "      <td>2</td>\n",
              "      <td>0</td>\n",
              "      <td>﻿1 realize $ pickup even $ pickup   little ten...</td>\n",
              "    </tr>\n",
              "  </tbody>\n",
              "</table>\n",
              "</div>"
            ],
            "text/plain": [
              "                                             reviewText  overall  sentiment  \\\n",
              "3200  Back plate has a \"greenish\" tint, and is singl...        3          0   \n",
              "6708  The picks we received were \"Legacy\" and not \"A...        3          0   \n",
              "8713  I purchased this instrument brand new, on an i...        2          0   \n",
              "3677  It's okay. I've bought stands for less that we...        3          0   \n",
              "8827  First we have to realize this is not a $200 pi...        2          0   \n",
              "\n",
              "                                         processed_text  \n",
              "3200  back plate greenish tint single ply ply advert...  \n",
              "6708  pick receive legacy alice brand  picture good ...  \n",
              "8713  purchase instrument brand new impulse whim due...  \n",
              "3677  okay  buy stand little balance sturdy little s...  \n",
              "8827  ﻿1 realize $ pickup even $ pickup   little ten...  "
            ]
          },
          "execution_count": 86,
          "metadata": {},
          "output_type": "execute_result"
        }
      ],
      "source": [
        "# Nueva columna con texto procesado\n",
        "data_instruments['processed_text'] = data_instruments['reviewText'].apply(lambda text: text_normalizer(text=text, lemmas_dict=english_lemmas_dict, sw_list=sw_list))\n",
        "\n",
        "data_instruments.head()"
      ]
    },
    {
      "cell_type": "markdown",
      "metadata": {
        "id": "6r_l1rfkxmMe"
      },
      "source": [
        "**Random Forest con texto procesado**"
      ]
    },
    {
      "cell_type": "code",
      "execution_count": 87,
      "metadata": {
        "id": "iJFmHpByHY3H"
      },
      "outputs": [],
      "source": [
        "X_train, X_test, y_train, y_test = train_test_split(\n",
        "    data_instruments['processed_text'],\n",
        "    data_instruments['sentiment'],\n",
        "    train_size=0.80,\n",
        "    test_size=0.20,\n",
        "    random_state=17,\n",
        "    shuffle=True\n",
        ")\n",
        "\n",
        "cv = TfidfVectorizer(\n",
        "    max_df=0.95,\n",
        "    min_df=5,\n",
        "    max_features=2500,\n",
        "    strip_accents='ascii',\n",
        "    ngram_range=(1, 1)\n",
        ")\n",
        "\n",
        "cv.fit(X_train)\n",
        "\n",
        "X_train_ = cv.transform(X_train)\n",
        "X_test_ = cv.transform(X_test)"
      ]
    },
    {
      "cell_type": "code",
      "execution_count": 88,
      "metadata": {
        "colab": {
          "base_uri": "https://localhost:8080/"
        },
        "id": "DGFiXNuAHY3H",
        "outputId": "7ef62b1a-cf0a-46b7-85ee-790431010996"
      },
      "outputs": [
        {
          "name": "stdout",
          "output_type": "stream",
          "text": [
            "Accuracy for C=10: 0.6774193548387096\n",
            "Accuracy for C=50: 0.655241935483871\n",
            "Accuracy for C=100: 0.6875\n"
          ]
        }
      ],
      "source": [
        "from sklearn.ensemble import RandomForestClassifier\n",
        "\n",
        "c_params = [10, 50, 100]\n",
        "\n",
        "train_acc = list()\n",
        "test_acc = list()\n",
        "\n",
        "train_recall = list()\n",
        "test_recall = list()\n",
        "\n",
        "for c in c_params:\n",
        "    rf = RandomForestClassifier(n_estimators=c)\n",
        "    rf.fit(X_train_, y_train)\n",
        "\n",
        "    train_predict = rf.predict(X_train_)\n",
        "    test_predict = rf.predict(X_test_)\n",
        "\n",
        "    print (f\"Accuracy for C={c}: {accuracy_score(y_test, test_predict)}\")\n",
        "\n",
        "    train_acc.append(accuracy_score(y_train, train_predict))\n",
        "    test_acc.append(accuracy_score(y_test, test_predict))\n",
        "\n",
        "    train_recall.append(recall_score(y_train, train_predict))\n",
        "    test_recall.append(recall_score(y_test, test_predict))"
      ]
    },
    {
      "cell_type": "code",
      "execution_count": 89,
      "metadata": {
        "colab": {
          "base_uri": "https://localhost:8080/"
        },
        "id": "Dg4oRl74HY3I",
        "outputId": "5d6e6c35-6075-4f1f-e457-6613797d6f6e"
      },
      "outputs": [
        {
          "name": "stdout",
          "output_type": "stream",
          "text": [
            "Confussion matrix:\n",
            "[[170  96]\n",
            " [ 59 171]]\n",
            "\n",
            "Classification report:\n",
            "              precision    recall  f1-score   support\n",
            "\n",
            "           0       0.74      0.64      0.69       266\n",
            "           1       0.64      0.74      0.69       230\n",
            "\n",
            "    accuracy                           0.69       496\n",
            "   macro avg       0.69      0.69      0.69       496\n",
            "weighted avg       0.70      0.69      0.69       496\n",
            "\n",
            "Accuracy score:0.6875\n"
          ]
        }
      ],
      "source": [
        "print(f\"Confussion matrix:\\n{confusion_matrix(y_test, test_predict)}\")\n",
        "print(f\"\\nClassification report:\\n{classification_report(y_test, test_predict)}\")\n",
        "print(f\"Accuracy score:{accuracy_score(y_test, test_predict)}\")"
      ]
    },
    {
      "cell_type": "code",
      "execution_count": 90,
      "metadata": {
        "colab": {
          "base_uri": "https://localhost:8080/",
          "height": 490
        },
        "id": "mg_gshwhHY3I",
        "outputId": "a9e61eee-6ccc-4737-df0b-f096f1c24214"
      },
      "outputs": [
        {
          "data": {
            "image/png": "[encoded data removed]",
            "text/plain": [
              "<Figure size 864x576 with 1 Axes>"
            ]
          },
          "metadata": {
            "needs_background": "light"
          },
          "output_type": "display_data"
        }
      ],
      "source": [
        "plt.figure(figsize=(12, 8))\n",
        "plt.plot(train_acc, label='train')\n",
        "plt.plot(test_acc, label='test')\n",
        "plt.axvline(np.argmax(test_acc), c='g', ls='--', alpha=0.8)\n",
        "plt.title('Accuracy evolution for different C values')\n",
        "plt.xlabel('C')\n",
        "plt.ylabel('Accuracy')\n",
        "plt.legend()\n",
        "plt.grid()\n",
        "plt.xticks(list(range(len(c_params))), c_params)\n",
        "plt.tight_layout()\n",
        "\n",
        "plt.show()"
      ]
    },
    {
      "cell_type": "code",
      "execution_count": 91,
      "metadata": {
        "colab": {
          "base_uri": "https://localhost:8080/",
          "height": 490
        },
        "id": "jHWWxzSTHY3I",
        "outputId": "9562cf21-7119-4f0b-9b0b-89f53e84995a",
        "scrolled": true
      },
      "outputs": [
        {
          "data": {
            "image/png": "[encoded data removed]",
            "text/plain": [
              "<Figure size 864x576 with 1 Axes>"
            ]
          },
          "metadata": {
            "needs_background": "light"
          },
          "output_type": "display_data"
        }
      ],
      "source": [
        "plt.figure(figsize=(12, 8))\n",
        "plt.plot(train_recall, label='train')\n",
        "plt.plot(test_recall, label='test')\n",
        "plt.axvline(np.argmax(test_acc), c='g', ls='--', alpha=0.8)\n",
        "plt.title('Recall evolution for different C values')\n",
        "plt.xlabel('C')\n",
        "plt.ylabel('Recall')\n",
        "plt.legend()\n",
        "plt.grid()\n",
        "plt.xticks(list(range(len(c_params))), c_params)\n",
        "plt.tight_layout()\n",
        "\n",
        "plt.show()"
      ]
    },
    {
      "cell_type": "code",
      "execution_count": 92,
      "metadata": {
        "colab": {
          "base_uri": "https://localhost:8080/"
        },
        "id": "GERDlUjAHY3J",
        "outputId": "7af5a16f-9f78-4685-95a6-f32a78c51dac"
      },
      "outputs": [
        {
          "name": "stderr",
          "output_type": "stream",
          "text": [
            "C:\\Users\\Seven\\AppData\\Local\\Temp\\ipykernel_8860\\1405305023.py:1: SettingWithCopyWarning: \n",
            "A value is trying to be set on a copy of a slice from a DataFrame.\n",
            "Try using .loc[row_indexer,col_indexer] = value instead\n",
            "\n",
            "See the caveats in the documentation: https://pandas.pydata.org/pandas-docs/stable/user_guide/indexing.html#returning-a-view-versus-a-copy\n",
            "  reviews['processed_text'] = reviews['reviewText'].apply(lambda text: text_normalizer(text=text, lemmas_dict=english_lemmas_dict, sw_list=sw_list))\n"
          ]
        }
      ],
      "source": [
        "reviews['processed_text'] = reviews['reviewText'].apply(lambda text: text_normalizer(text=text, lemmas_dict=english_lemmas_dict, sw_list=sw_list))"
      ]
    },
    {
      "cell_type": "code",
      "execution_count": 93,
      "metadata": {
        "colab": {
          "base_uri": "https://localhost:8080/"
        },
        "id": "7gbcOU43wnwD",
        "outputId": "73c6f669-82e9-43df-fd38-72a9e20a76d5"
      },
      "outputs": [
        {
          "data": {
            "text/plain": [
              "RandomForestClassifier(n_estimators=50)"
            ]
          },
          "execution_count": 93,
          "metadata": {},
          "output_type": "execute_result"
        }
      ],
      "source": [
        "rf = RandomForestClassifier(n_estimators=50)\n",
        "rf.fit(X_train_, y_train)"
      ]
    },
    {
      "cell_type": "code",
      "execution_count": 94,
      "metadata": {
        "id": "JwmhxNEfwrnh"
      },
      "outputs": [],
      "source": [
        "def predict_review_sentiment(review_index, model):\n",
        "    print(f\"Actual sentiment: {reviews.iloc[review_index]['sentiment']}\")\n",
        "    r = reviews.iloc[review_index]['processed_text']\n",
        "    print(f\"Prediction: {rf.predict(cv.transform([r]))}\")"
      ]
    },
    {
      "cell_type": "code",
      "execution_count": 95,
      "metadata": {},
      "outputs": [
        {
          "name": "stdout",
          "output_type": "stream",
          "text": [
            "\n",
            "Review no. 1002\n",
            "Actual sentiment: 1\n",
            "Prediction: [0]\n",
            "\n",
            "Review no. 9486\n",
            "Actual sentiment: 1\n",
            "Prediction: [0]\n",
            "\n",
            "Review no. 1082\n",
            "Actual sentiment: 1\n",
            "Prediction: [1]\n",
            "\n",
            "Review no. 6091\n",
            "Actual sentiment: 1\n",
            "Prediction: [1]\n",
            "\n",
            "Review no. 3732\n",
            "Actual sentiment: 1\n",
            "Prediction: [1]\n",
            "\n",
            "Review no. 2637\n",
            "Actual sentiment: 1\n",
            "Prediction: [1]\n",
            "\n",
            "Review no. 1999\n",
            "Actual sentiment: 1\n",
            "Prediction: [0]\n",
            "\n",
            "Review no. 9518\n",
            "Actual sentiment: 1\n",
            "Prediction: [1]\n",
            "\n",
            "Review no. 2702\n",
            "Actual sentiment: 1\n",
            "Prediction: [0]\n",
            "\n",
            "Review no. 6911\n",
            "Actual sentiment: 1\n",
            "Prediction: [0]\n"
          ]
        }
      ],
      "source": [
        "for i in random.sample(range(0, len(reviews)), 10):\n",
        "    print(f\"\\nReview no. {i}\")\n",
        "    predict_review_sentiment(i, rf)"
      ]
    },
    {
      "cell_type": "markdown",
      "metadata": {
        "id": "LD8HRE6fz0JH"
      },
      "source": [
        "# Conclusión\n",
        "\n",
        "> He usado un Random Forest porque es el modelo que mejor resultado obtenía en el notebook anterior, sin embargo, con un mejor preprocesado, etc, podríamos obtener un mejor accuracy.\n",
        "\n",
        "> La opción de usar deep learning es también bastante interesante. Existen modelos como Convolutional Neural Networks o Recurrent Neural Networks que permiten un buen compromiso entre precisión, velocidad y coste. Probar con estas técnicas supondría una mejora de nuestro ejercicio.\n",
        "\n",
        "> Existen diversos cambios que se podrían hacer para mejorar la acuracy, como por ejemplo eliminar del corpus la valoración de 3 estrellas, añadir es usar una lista de stop words más adecuada para el corpus que estamos tratando, etc.\n",
        "\n",
        "> La calidad de los datos ingestados en el modelo tienen mucho impacto el la accuracy:\n",
        "> - Una de ellas es usar una exhaustiva lista de stop words, ésta dependerá del lenguaje y debería ser adaptada para cada corpus en concreto para obtener mejor resultados.\n",
        ">\n",
        "> - Otra es eliminar el ruido del corpus, esto incluye eliminar signos de puntuación, valores numéricos, links, etc, que pueden ensuciar nuestro corpus.\n",
        ">\n",
        "> - Eliminar features que tengan muy poca frecuencia. Existen algunas features que deben ser eliminadas si ocurren muy pocas veces en todo el corpus. Esto, en general, se ha asociado a una mejora en el modelo.\n",
        "\n",
        "> Una vez que el modelo sea robusto, y se haya limpiado y normalizado de forma adecuada, una prueba de validación sería comprobar el modelo que hemos hecho con otro corpus distinto para ver en qué medida el modelo funciona."
      ]
    }
  ],
  "metadata": {
    "colab": {
      "collapsed_sections": [],
      "name": "4_Metricas.ipynb",
      "provenance": []
    },
    "kernelspec": {
      "display_name": "Python 3.10.1 64-bit",
      "language": "python",
      "name": "python3"
    },
    "language_info": {
      "codemirror_mode": {
        "name": "ipython",
        "version": 3
      },
      "file_extension": ".py",
      "mimetype": "text/x-python",
      "name": "python",
      "nbconvert_exporter": "python",
      "pygments_lexer": "ipython3",
      "version": "3.10.1"
    },
    "vscode": {
      "interpreter": {
        "hash": "041c88a0381d4355379849f66bff3ebdfd0df137b518697e49df030e073125c4"
      }
    }
  },
  "nbformat": 4,
  "nbformat_minor": 0
}
